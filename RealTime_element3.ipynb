{
  "nbformat": 4,
  "nbformat_minor": 0,
  "metadata": {
    "colab": {
      "provenance": [],
      "include_colab_link": true
    },
    "kernelspec": {
      "name": "python3",
      "display_name": "Python 3"
    },
    "language_info": {
      "name": "python"
    }
  },
  "cells": [
    {
      "cell_type": "markdown",
      "metadata": {
        "id": "view-in-github",
        "colab_type": "text"
      },
      "source": [
        "<a href=\"https://colab.research.google.com/github/apinayanxyz/Element3/blob/main/RealTime_element3.ipynb\" target=\"_parent\"><img src=\"https://colab.research.google.com/assets/colab-badge.svg\" alt=\"Open In Colab\"/></a>"
      ]
    },
    {
      "cell_type": "code",
      "execution_count": 7,
      "metadata": {
        "colab": {
          "base_uri": "https://localhost:8080/",
          "height": 842
        },
        "id": "GPWtSPp5xcYc",
        "outputId": "889839a2-bbca-4f8d-c4d3-929f72753eee"
      },
      "outputs": [
        {
          "output_type": "stream",
          "name": "stdout",
          "text": [
            "POWER FAILURE. SYSTEM OFFLINE\n",
            "Power Restored? y/n y\n",
            "\n",
            "POWER RESTORED. SYSTEM ONLINE\n",
            "----------------------------------------------------\n",
            "is there a fire? y/n y\n",
            "Fire Detected in East Wing\n",
            "is there still fire? y/n y\n",
            "SPRINKERS ACTIVED IN WEST WING\n",
            "EXIT SIGNS ACTIVE \n",
            "EMERGANCY SERVICES CALLED\n",
            "is the fire over? y/n y\n",
            "SPRINKERS DEACTIVED \n",
            "EXIT SIGNS DEACTIVED\n",
            "Would you like a print out of this incident? y/n y\n",
            "\n",
            "---------------- INCIDENT PRINT OUT ----------------\n",
            "Alarm No. 1\n",
            "Tue May 28 23:35:41 2024: is there a fire? y\n",
            "Tue May 28 23:35:41 2024: Fire Detected in East Wing\n",
            "Tue May 28 23:35:47 2024: is there still a fire? y\n",
            "Tue May 28 23:35:47 2024: SPRINKERS ACTIVED IN WEST WING\n",
            "Tue May 28 23:35:47 2024: EXIT SIGNS ACTIVE\n",
            "Tue May 28 23:35:47 2024: EMERGANCY SERVICES CALLED\n",
            "Tue May 28 23:35:49 2024: is the fire over? y\n",
            "Tue May 28 23:35:49 2024: SPRINKERS DEACTIVED\n",
            "Tue May 28 23:35:49 2024: EXIT SIGNS DEACTIVED\n",
            "----------------------------------------------------\n"
          ]
        },
        {
          "output_type": "error",
          "ename": "KeyboardInterrupt",
          "evalue": "Interrupted by user",
          "traceback": [
            "\u001b[0;31m---------------------------------------------------------------------------\u001b[0m",
            "\u001b[0;31mKeyboardInterrupt\u001b[0m                         Traceback (most recent call last)",
            "\u001b[0;32m<ipython-input-7-da8a69522891>\u001b[0m in \u001b[0;36m<cell line: 63>\u001b[0;34m()\u001b[0m\n\u001b[1;32m     65\u001b[0m                 \u001b[0mlog\u001b[0m\u001b[0;34m.\u001b[0m\u001b[0mclear\u001b[0m\u001b[0;34m(\u001b[0m\u001b[0;34m)\u001b[0m\u001b[0;34m\u001b[0m\u001b[0;34m\u001b[0m\u001b[0m\n\u001b[1;32m     66\u001b[0m                 \u001b[0mprint\u001b[0m\u001b[0;34m(\u001b[0m\u001b[0;34m\"----------------------------------------------------\"\u001b[0m\u001b[0;34m)\u001b[0m\u001b[0;34m\u001b[0m\u001b[0;34m\u001b[0m\u001b[0m\n\u001b[0;32m---> 67\u001b[0;31m                 \u001b[0msensor\u001b[0m \u001b[0;34m=\u001b[0m \u001b[0mcheckSensor\u001b[0m\u001b[0;34m(\u001b[0m\u001b[0;34m)\u001b[0m\u001b[0;34m\u001b[0m\u001b[0;34m\u001b[0m\u001b[0m\n\u001b[0m\u001b[1;32m     68\u001b[0m                 \u001b[0;31m#there is a second fire detection, fire is confirmed\u001b[0m\u001b[0;34m\u001b[0m\u001b[0;34m\u001b[0m\u001b[0m\n\u001b[1;32m     69\u001b[0m                 \u001b[0;32mif\u001b[0m \u001b[0;34m(\u001b[0m\u001b[0msensor\u001b[0m \u001b[0;34m==\u001b[0m \u001b[0;34m\"y\"\u001b[0m\u001b[0;34m)\u001b[0m\u001b[0;34m:\u001b[0m\u001b[0;34m\u001b[0m\u001b[0;34m\u001b[0m\u001b[0m\n",
            "\u001b[0;32m<ipython-input-7-da8a69522891>\u001b[0m in \u001b[0;36mcheckSensor\u001b[0;34m()\u001b[0m\n\u001b[1;32m     18\u001b[0m \u001b[0;32mdef\u001b[0m \u001b[0mcheckSensor\u001b[0m\u001b[0;34m(\u001b[0m\u001b[0;34m)\u001b[0m\u001b[0;34m:\u001b[0m\u001b[0;34m\u001b[0m\u001b[0;34m\u001b[0m\u001b[0m\n\u001b[1;32m     19\u001b[0m         \u001b[0;31m#asking the initial question\u001b[0m\u001b[0;34m\u001b[0m\u001b[0;34m\u001b[0m\u001b[0m\n\u001b[0;32m---> 20\u001b[0;31m         \u001b[0msensor\u001b[0m \u001b[0;34m=\u001b[0m \u001b[0minput\u001b[0m\u001b[0;34m(\u001b[0m\u001b[0;34m\"is there a fire? y/n \"\u001b[0m\u001b[0;34m)\u001b[0m\u001b[0;34m\u001b[0m\u001b[0;34m\u001b[0m\u001b[0m\n\u001b[0m\u001b[1;32m     21\u001b[0m         \u001b[0mlog\u001b[0m\u001b[0;34m.\u001b[0m\u001b[0mappend\u001b[0m\u001b[0;34m(\u001b[0m\u001b[0mtime\u001b[0m\u001b[0;34m.\u001b[0m\u001b[0mctime\u001b[0m\u001b[0;34m(\u001b[0m\u001b[0;34m)\u001b[0m \u001b[0;34m+\u001b[0m \u001b[0;34m\": is there a fire? \"\u001b[0m \u001b[0;34m+\u001b[0m \u001b[0msensor\u001b[0m\u001b[0;34m)\u001b[0m\u001b[0;34m\u001b[0m\u001b[0;34m\u001b[0m\u001b[0m\n\u001b[1;32m     22\u001b[0m         \u001b[0;31m#asking until there is an fire\u001b[0m\u001b[0;34m\u001b[0m\u001b[0;34m\u001b[0m\u001b[0m\n",
            "\u001b[0;32m/usr/local/lib/python3.10/dist-packages/ipykernel/kernelbase.py\u001b[0m in \u001b[0;36mraw_input\u001b[0;34m(self, prompt)\u001b[0m\n\u001b[1;32m    849\u001b[0m                 \u001b[0;34m\"raw_input was called, but this frontend does not support input requests.\"\u001b[0m\u001b[0;34m\u001b[0m\u001b[0;34m\u001b[0m\u001b[0m\n\u001b[1;32m    850\u001b[0m             )\n\u001b[0;32m--> 851\u001b[0;31m         return self._input_request(str(prompt),\n\u001b[0m\u001b[1;32m    852\u001b[0m             \u001b[0mself\u001b[0m\u001b[0;34m.\u001b[0m\u001b[0m_parent_ident\u001b[0m\u001b[0;34m,\u001b[0m\u001b[0;34m\u001b[0m\u001b[0;34m\u001b[0m\u001b[0m\n\u001b[1;32m    853\u001b[0m             \u001b[0mself\u001b[0m\u001b[0;34m.\u001b[0m\u001b[0m_parent_header\u001b[0m\u001b[0;34m,\u001b[0m\u001b[0;34m\u001b[0m\u001b[0;34m\u001b[0m\u001b[0m\n",
            "\u001b[0;32m/usr/local/lib/python3.10/dist-packages/ipykernel/kernelbase.py\u001b[0m in \u001b[0;36m_input_request\u001b[0;34m(self, prompt, ident, parent, password)\u001b[0m\n\u001b[1;32m    893\u001b[0m             \u001b[0;32mexcept\u001b[0m \u001b[0mKeyboardInterrupt\u001b[0m\u001b[0;34m:\u001b[0m\u001b[0;34m\u001b[0m\u001b[0;34m\u001b[0m\u001b[0m\n\u001b[1;32m    894\u001b[0m                 \u001b[0;31m# re-raise KeyboardInterrupt, to truncate traceback\u001b[0m\u001b[0;34m\u001b[0m\u001b[0;34m\u001b[0m\u001b[0m\n\u001b[0;32m--> 895\u001b[0;31m                 \u001b[0;32mraise\u001b[0m \u001b[0mKeyboardInterrupt\u001b[0m\u001b[0;34m(\u001b[0m\u001b[0;34m\"Interrupted by user\"\u001b[0m\u001b[0;34m)\u001b[0m \u001b[0;32mfrom\u001b[0m \u001b[0;32mNone\u001b[0m\u001b[0;34m\u001b[0m\u001b[0;34m\u001b[0m\u001b[0m\n\u001b[0m\u001b[1;32m    896\u001b[0m             \u001b[0;32mexcept\u001b[0m \u001b[0mException\u001b[0m \u001b[0;32mas\u001b[0m \u001b[0me\u001b[0m\u001b[0;34m:\u001b[0m\u001b[0;34m\u001b[0m\u001b[0;34m\u001b[0m\u001b[0m\n\u001b[1;32m    897\u001b[0m                 \u001b[0mself\u001b[0m\u001b[0;34m.\u001b[0m\u001b[0mlog\u001b[0m\u001b[0;34m.\u001b[0m\u001b[0mwarning\u001b[0m\u001b[0;34m(\u001b[0m\u001b[0;34m\"Invalid Message:\"\u001b[0m\u001b[0;34m,\u001b[0m \u001b[0mexc_info\u001b[0m\u001b[0;34m=\u001b[0m\u001b[0;32mTrue\u001b[0m\u001b[0;34m)\u001b[0m\u001b[0;34m\u001b[0m\u001b[0;34m\u001b[0m\u001b[0m\n",
            "\u001b[0;31mKeyboardInterrupt\u001b[0m: Interrupted by user"
          ]
        }
      ],
      "source": [
        "import time\n",
        "import random\n",
        "\n",
        "active = True #keeps the system open, creating a high availbility system\n",
        "power = False #system power\n",
        "\n",
        "log = [] #list for printing out incedent report\n",
        "zones = [\"Gateway\", \"North Wing\", \"East Wing\", \"South Wing\", \"West Wing\",\n",
        "         \"Owen Harris\", \"Red Shed\"]\n",
        "\n",
        "\n",
        "def printIncident():\n",
        "\tprint(\"\\n---------------- INCIDENT PRINT OUT ----------------\")\n",
        "\tprint(\"Alarm No. \" + str(alarmCount))\n",
        "\tfor i in log:\n",
        "\t\tprint(i)\n",
        "\n",
        "def checkSensor():\n",
        "\t#asking the initial question\n",
        "\tsensor = input(\"is there a fire? y/n \")\n",
        "\tlog.append(time.ctime() + \": is there a fire? \" + sensor)\n",
        "\t#asking until there is an fire\n",
        "\twhile (sensor == \"n\"):\n",
        "\t\tsensor = input(\"is there a fire? y/n \")\n",
        "\t\tlog.append(time.ctime() + \": is there a fire? \" + sensor)\n",
        "\n",
        "\tzone = random.choice(zones) #selecting the zone the fire is in\n",
        "\t#the fire is detected\n",
        "\tprint (\"Fire Detected in \"+ zone)\n",
        "\tlog.append(time.ctime()+ \": Fire Detected in \"+ zone)\n",
        "\n",
        "\t#waiting before second detection, to reduce risk of false alarm\n",
        "\ttime.sleep(2)\n",
        "\n",
        "\t#asking for second fire detection\n",
        "\tsensor = input(\"is there still fire? y/n \")\n",
        "\tlog.append(time.ctime() + \": is there still a fire? \" + sensor)\n",
        "\treturn sensor\n",
        "\n",
        "def activateServices(alarmcount):\n",
        "\t#fire confirmed\n",
        "\tprint (\"SPRINKERS ACTIVED IN \" + zone.upper() +\n",
        "      \"\\nEXIT SIGNS ACTIVE \\nEMERGANCY SERVICES CALLED\")\n",
        "\tlog.append(time.ctime() + \": SPRINKERS ACTIVED IN \" + zone.upper())\n",
        "\tlog.append(time.ctime() + \": EXIT SIGNS ACTIVE\")\n",
        "\tlog.append(time.ctime() + \": EMERGANCY SERVICES CALLED\")\n",
        "\treturn alarmcount + 1 #counting the number of confirmed alarms in a session\n",
        "\n",
        "def checkOverride():\n",
        "\t#asking for central override to stop the sprinklers etc\n",
        "\toverride = input(\"is the fire over? y/n \")\n",
        "\tlog.append(time.ctime() + \": is the fire over? \" + override)\n",
        "\treturn override\n",
        "\n",
        "def deactivateServices():\n",
        "\t#fire stoppped\n",
        "\tprint (\"SPRINKERS DEACTIVED \\nEXIT SIGNS DEACTIVED\")\n",
        "\tlog.append(time.ctime() + \": SPRINKERS DEACTIVED\")\n",
        "\tlog.append(time.ctime() + \": EXIT SIGNS DEACTIVED\")\n",
        "\n",
        "\n",
        "alarmCount = 0\n",
        "while (active == True): #system is started and kept open\n",
        "\twhile (power == True): #system has power to work\n",
        "\t\tlog.clear()\n",
        "\t\tprint(\"----------------------------------------------------\")\n",
        "\t\tsensor = checkSensor()\n",
        "\t\t#there is a second fire detection, fire is confirmed\n",
        "\t\tif (sensor == \"y\"):\n",
        "\t\t\talarmCount = activateServices(alarmCount)\n",
        "\t\telse: continue #no fire detection, System resets\n",
        "\n",
        "\t\toverride = checkOverride()\n",
        "\t\t#fire still happinging\n",
        "\t\twhile (override == \"n\"):\n",
        "\t\t\toverride = input(\"is the fire over now? y/n \")\n",
        "\t\t\tlog.append(time.ctime() + \": is the fire over? \" + override)\n",
        "\n",
        "\t\tdeactivateServices()\n",
        "\n",
        "\t\t#incedent printout\n",
        "\t\tincidentPrintout = input(\"Would you like a print out of this incident? y/n \")\n",
        "\t\tif (incidentPrintout == \"y\"):\n",
        "\t\t\tprintIncident()\n",
        "\t\telse: continue #System resets\n",
        "\n",
        "\t#power == false\n",
        "\tprint(\"POWER FAILURE. SYSTEM OFFLINE\")\n",
        "\trestorePower = input(\"Power Restored? y/n \")\n",
        "\n",
        "\tif (restorePower == \"y\"):\n",
        "\t\tprint(\"\\nPOWER RESTORED. SYSTEM ONLINE\")\n",
        "\t\tpower = True\n",
        "\telse: continue #return to start of active loop"
      ]
    }
  ]
}